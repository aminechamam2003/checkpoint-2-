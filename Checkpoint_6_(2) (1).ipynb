{
  "nbformat": 4,
  "nbformat_minor": 0,
  "metadata": {
    "colab": {
      "name": "Checkpoint 6 (2).ipynb",
      "provenance": [],
      "collapsed_sections": []
    },
    "kernelspec": {
      "name": "python3",
      "display_name": "Python 3"
    },
    "language_info": {
      "name": "python"
    }
  },
  "cells": [
    {
      "cell_type": "code",
      "metadata": {
        "id": "RweaKltDtJIX"
      },
      "source": [
        ""
      ],
      "execution_count": 24,
      "outputs": []
    },
    {
      "cell_type": "code",
      "metadata": {
        "id": "bWHeMM3EO6xH",
        "colab": {
          "base_uri": "https://localhost:8080/"
        },
        "outputId": "bfefa6e3-e81e-4530-a84a-251c4b0fb0a1"
      },
      "source": [
        "from google.colab import drive\n",
        "drive.mount('/content/drive')"
      ],
      "execution_count": 25,
      "outputs": [
        {
          "output_type": "stream",
          "text": [
            "Drive already mounted at /content/drive; to attempt to forcibly remount, call drive.mount(\"/content/drive\", force_remount=True).\n"
          ],
          "name": "stdout"
        }
      ]
    },
    {
      "cell_type": "code",
      "metadata": {
        "colab": {
          "base_uri": "https://localhost:8080/"
        },
        "id": "uyHiGcHguX3h",
        "outputId": "31d70761-7346-49dd-fb3d-6d0bc48846ba"
      },
      "source": [
        "import csv\n",
        "with open('/content/sample_data/iris.data.txt', 'r') as csvfile:\n",
        "  lines = csv.reader(csvfile)\n",
        "  for row in lines :\n",
        "    print (', '.join(row))"
      ],
      "execution_count": 26,
      "outputs": [
        {
          "output_type": "stream",
          "text": [
            "5.1, 3.5, 1.4, 0.2, Iris-setosa\n",
            "4.9, 3.0, 1.4, 0.2, Iris-setosa\n",
            "4.7, 3.2, 1.3, 0.2, Iris-setosa\n",
            "4.6, 3.1, 1.5, 0.2, Iris-setosa\n",
            "5.0, 3.6, 1.4, 0.2, Iris-setosa\n",
            "5.4, 3.9, 1.7, 0.4, Iris-setosa\n",
            "4.6, 3.4, 1.4, 0.3, Iris-setosa\n",
            "5.0, 3.4, 1.5, 0.2, Iris-setosa\n",
            "4.4, 2.9, 1.4, 0.2, Iris-setosa\n",
            "4.9, 3.1, 1.5, 0.1, Iris-setosa\n",
            "5.4, 3.7, 1.5, 0.2, Iris-setosa\n",
            "4.8, 3.4, 1.6, 0.2, Iris-setosa\n",
            "4.8, 3.0, 1.4, 0.1, Iris-setosa\n",
            "4.3, 3.0, 1.1, 0.1, Iris-setosa\n",
            "5.8, 4.0, 1.2, 0.2, Iris-setosa\n",
            "5.7, 4.4, 1.5, 0.4, Iris-setosa\n",
            "5.4, 3.9, 1.3, 0.4, Iris-setosa\n",
            "5.1, 3.5, 1.4, 0.3, Iris-setosa\n",
            "5.7, 3.8, 1.7, 0.3, Iris-setosa\n",
            "5.1, 3.8, 1.5, 0.3, Iris-setosa\n",
            "5.4, 3.4, 1.7, 0.2, Iris-setosa\n",
            "5.1, 3.7, 1.5, 0.4, Iris-setosa\n",
            "4.6, 3.6, 1.0, 0.2, Iris-setosa\n",
            "5.1, 3.3, 1.7, 0.5, Iris-setosa\n",
            "4.8, 3.4, 1.9, 0.2, Iris-setosa\n",
            "5.0, 3.0, 1.6, 0.2, Iris-setosa\n",
            "5.0, 3.4, 1.6, 0.4, Iris-setosa\n",
            "5.2, 3.5, 1.5, 0.2, Iris-setosa\n",
            "5.2, 3.4, 1.4, 0.2, Iris-setosa\n",
            "4.7, 3.2, 1.6, 0.2, Iris-setosa\n",
            "4.8, 3.1, 1.6, 0.2, Iris-setosa\n",
            "5.4, 3.4, 1.5, 0.4, Iris-setosa\n",
            "5.2, 4.1, 1.5, 0.1, Iris-setosa\n",
            "5.5, 4.2, 1.4, 0.2, Iris-setosa\n",
            "4.9, 3.1, 1.5, 0.1, Iris-setosa\n",
            "5.0, 3.2, 1.2, 0.2, Iris-setosa\n",
            "5.5, 3.5, 1.3, 0.2, Iris-setosa\n",
            "4.9, 3.1, 1.5, 0.1, Iris-setosa\n",
            "4.4, 3.0, 1.3, 0.2, Iris-setosa\n",
            "5.1, 3.4, 1.5, 0.2, Iris-setosa\n",
            "5.0, 3.5, 1.3, 0.3, Iris-setosa\n",
            "4.5, 2.3, 1.3, 0.3, Iris-setosa\n",
            "4.4, 3.2, 1.3, 0.2, Iris-setosa\n",
            "5.0, 3.5, 1.6, 0.6, Iris-setosa\n",
            "5.1, 3.8, 1.9, 0.4, Iris-setosa\n",
            "4.8, 3.0, 1.4, 0.3, Iris-setosa\n",
            "5.1, 3.8, 1.6, 0.2, Iris-setosa\n",
            "4.6, 3.2, 1.4, 0.2, Iris-setosa\n",
            "5.3, 3.7, 1.5, 0.2, Iris-setosa\n",
            "5.0, 3.3, 1.4, 0.2, Iris-setosa\n",
            "7.0, 3.2, 4.7, 1.4, Iris-versicolor\n",
            "6.4, 3.2, 4.5, 1.5, Iris-versicolor\n",
            "6.9, 3.1, 4.9, 1.5, Iris-versicolor\n",
            "5.5, 2.3, 4.0, 1.3, Iris-versicolor\n",
            "6.5, 2.8, 4.6, 1.5, Iris-versicolor\n",
            "5.7, 2.8, 4.5, 1.3, Iris-versicolor\n",
            "6.3, 3.3, 4.7, 1.6, Iris-versicolor\n",
            "4.9, 2.4, 3.3, 1.0, Iris-versicolor\n",
            "6.6, 2.9, 4.6, 1.3, Iris-versicolor\n",
            "5.2, 2.7, 3.9, 1.4, Iris-versicolor\n",
            "5.0, 2.0, 3.5, 1.0, Iris-versicolor\n",
            "5.9, 3.0, 4.2, 1.5, Iris-versicolor\n",
            "6.0, 2.2, 4.0, 1.0, Iris-versicolor\n",
            "6.1, 2.9, 4.7, 1.4, Iris-versicolor\n",
            "5.6, 2.9, 3.6, 1.3, Iris-versicolor\n",
            "6.7, 3.1, 4.4, 1.4, Iris-versicolor\n",
            "5.6, 3.0, 4.5, 1.5, Iris-versicolor\n",
            "5.8, 2.7, 4.1, 1.0, Iris-versicolor\n",
            "6.2, 2.2, 4.5, 1.5, Iris-versicolor\n",
            "5.6, 2.5, 3.9, 1.1, Iris-versicolor\n",
            "5.9, 3.2, 4.8, 1.8, Iris-versicolor\n",
            "6.1, 2.8, 4.0, 1.3, Iris-versicolor\n",
            "6.3, 2.5, 4.9, 1.5, Iris-versicolor\n",
            "6.1, 2.8, 4.7, 1.2, Iris-versicolor\n",
            "6.4, 2.9, 4.3, 1.3, Iris-versicolor\n",
            "6.6, 3.0, 4.4, 1.4, Iris-versicolor\n",
            "6.8, 2.8, 4.8, 1.4, Iris-versicolor\n",
            "6.7, 3.0, 5.0, 1.7, Iris-versicolor\n",
            "6.0, 2.9, 4.5, 1.5, Iris-versicolor\n",
            "5.7, 2.6, 3.5, 1.0, Iris-versicolor\n",
            "5.5, 2.4, 3.8, 1.1, Iris-versicolor\n",
            "5.5, 2.4, 3.7, 1.0, Iris-versicolor\n",
            "5.8, 2.7, 3.9, 1.2, Iris-versicolor\n",
            "6.0, 2.7, 5.1, 1.6, Iris-versicolor\n",
            "5.4, 3.0, 4.5, 1.5, Iris-versicolor\n",
            "6.0, 3.4, 4.5, 1.6, Iris-versicolor\n",
            "6.7, 3.1, 4.7, 1.5, Iris-versicolor\n",
            "6.3, 2.3, 4.4, 1.3, Iris-versicolor\n",
            "5.6, 3.0, 4.1, 1.3, Iris-versicolor\n",
            "5.5, 2.5, 4.0, 1.3, Iris-versicolor\n",
            "5.5, 2.6, 4.4, 1.2, Iris-versicolor\n",
            "6.1, 3.0, 4.6, 1.4, Iris-versicolor\n",
            "5.8, 2.6, 4.0, 1.2, Iris-versicolor\n",
            "5.0, 2.3, 3.3, 1.0, Iris-versicolor\n",
            "5.6, 2.7, 4.2, 1.3, Iris-versicolor\n",
            "5.7, 3.0, 4.2, 1.2, Iris-versicolor\n",
            "5.7, 2.9, 4.2, 1.3, Iris-versicolor\n",
            "6.2, 2.9, 4.3, 1.3, Iris-versicolor\n",
            "5.1, 2.5, 3.0, 1.1, Iris-versicolor\n",
            "5.7, 2.8, 4.1, 1.3, Iris-versicolor\n",
            "6.3, 3.3, 6.0, 2.5, Iris-virginica\n",
            "5.8, 2.7, 5.1, 1.9, Iris-virginica\n",
            "7.1, 3.0, 5.9, 2.1, Iris-virginica\n",
            "6.3, 2.9, 5.6, 1.8, Iris-virginica\n",
            "6.5, 3.0, 5.8, 2.2, Iris-virginica\n",
            "7.6, 3.0, 6.6, 2.1, Iris-virginica\n",
            "4.9, 2.5, 4.5, 1.7, Iris-virginica\n",
            "7.3, 2.9, 6.3, 1.8, Iris-virginica\n",
            "6.7, 2.5, 5.8, 1.8, Iris-virginica\n",
            "7.2, 3.6, 6.1, 2.5, Iris-virginica\n",
            "6.5, 3.2, 5.1, 2.0, Iris-virginica\n",
            "6.4, 2.7, 5.3, 1.9, Iris-virginica\n",
            "6.8, 3.0, 5.5, 2.1, Iris-virginica\n",
            "5.7, 2.5, 5.0, 2.0, Iris-virginica\n",
            "5.8, 2.8, 5.1, 2.4, Iris-virginica\n",
            "6.4, 3.2, 5.3, 2.3, Iris-virginica\n",
            "6.5, 3.0, 5.5, 1.8, Iris-virginica\n",
            "7.7, 3.8, 6.7, 2.2, Iris-virginica\n",
            "7.7, 2.6, 6.9, 2.3, Iris-virginica\n",
            "6.0, 2.2, 5.0, 1.5, Iris-virginica\n",
            "6.9, 3.2, 5.7, 2.3, Iris-virginica\n",
            "5.6, 2.8, 4.9, 2.0, Iris-virginica\n",
            "7.7, 2.8, 6.7, 2.0, Iris-virginica\n",
            "6.3, 2.7, 4.9, 1.8, Iris-virginica\n",
            "6.7, 3.3, 5.7, 2.1, Iris-virginica\n",
            "7.2, 3.2, 6.0, 1.8, Iris-virginica\n",
            "6.2, 2.8, 4.8, 1.8, Iris-virginica\n",
            "6.1, 3.0, 4.9, 1.8, Iris-virginica\n",
            "6.4, 2.8, 5.6, 2.1, Iris-virginica\n",
            "7.2, 3.0, 5.8, 1.6, Iris-virginica\n",
            "7.4, 2.8, 6.1, 1.9, Iris-virginica\n",
            "7.9, 3.8, 6.4, 2.0, Iris-virginica\n",
            "6.4, 2.8, 5.6, 2.2, Iris-virginica\n",
            "6.3, 2.8, 5.1, 1.5, Iris-virginica\n",
            "6.1, 2.6, 5.6, 1.4, Iris-virginica\n",
            "7.7, 3.0, 6.1, 2.3, Iris-virginica\n",
            "6.3, 3.4, 5.6, 2.4, Iris-virginica\n",
            "6.4, 3.1, 5.5, 1.8, Iris-virginica\n",
            "6.0, 3.0, 4.8, 1.8, Iris-virginica\n",
            "6.9, 3.1, 5.4, 2.1, Iris-virginica\n",
            "6.7, 3.1, 5.6, 2.4, Iris-virginica\n",
            "6.9, 3.1, 5.1, 2.3, Iris-virginica\n",
            "5.8, 2.7, 5.1, 1.9, Iris-virginica\n",
            "6.8, 3.2, 5.9, 2.3, Iris-virginica\n",
            "6.7, 3.3, 5.7, 2.5, Iris-virginica\n",
            "6.7, 3.0, 5.2, 2.3, Iris-virginica\n",
            "6.3, 2.5, 5.0, 1.9, Iris-virginica\n",
            "6.5, 3.0, 5.2, 2.0, Iris-virginica\n",
            "6.2, 3.4, 5.4, 2.3, Iris-virginica\n",
            "5.9, 3.0, 5.1, 1.8, Iris-virginica\n"
          ],
          "name": "stdout"
        }
      ]
    },
    {
      "cell_type": "code",
      "metadata": {
        "id": "0t4VkAxMxB8M"
      },
      "source": [
        "import csv\n",
        "import random\n",
        "\n",
        "def loadDataset(filename, split, trainingSet=[] , testSet=[]):\n",
        "  with open(filename, 'r') as csvfile:\n",
        "    lines = csv.reader(csvfile)\n",
        "    dataset = list(lines)\n",
        "  for x in range(len(dataset)-1):\n",
        "    for y in range(4):\n",
        "      dataset[x][y] = float(dataset[x][y])\n",
        "    if random.random() < split:\n",
        "      trainingSet.append(dataset[x])\n",
        "    else:\n",
        "      testSet.append(dataset[y])"
      ],
      "execution_count": 27,
      "outputs": []
    },
    {
      "cell_type": "code",
      "metadata": {
        "colab": {
          "base_uri": "https://localhost:8080/"
        },
        "id": "l-4wG6mEuesO",
        "outputId": "59871aa8-a36c-4876-bd33-503d9868dfab"
      },
      "source": [
        "trainingSet=[]\n",
        "testSet=[]\n",
        "loadDataset('/content/sample_data/iris.data.txt', 0.66, trainingSet, testSet)\n",
        "print ('Train: ' + repr(len(trainingSet)))\n",
        "print ('Test: ' + repr(len(testSet)) )"
      ],
      "execution_count": 28,
      "outputs": [
        {
          "output_type": "stream",
          "text": [
            "Train: 106\n",
            "Test: 43\n"
          ],
          "name": "stdout"
        }
      ]
    },
    {
      "cell_type": "code",
      "metadata": {
        "id": "ZCguRwgy408N"
      },
      "source": [
        "import math\n",
        "def euclideanDistance(instance1, instance2, length):\n",
        "  distance = 0\n",
        "  for x in range(length):\n",
        "    distance += pow((instance1[x] - instance2[x]), 2)\n",
        "  return math.sqrt(distance)"
      ],
      "execution_count": 29,
      "outputs": []
    },
    {
      "cell_type": "code",
      "metadata": {
        "colab": {
          "base_uri": "https://localhost:8080/"
        },
        "id": "ngw8HFeW9OsM",
        "outputId": "d05ae868-9e6d-4f24-c2e4-703f02962616"
      },
      "source": [
        "data1 = [2, 2, 2, 'a']\n",
        "data2 = [4, 4, 4, 'b']\n",
        "distance = euclideanDistance(data1, data2, 3)\n",
        "print('Distance: ' + repr(distance))"
      ],
      "execution_count": 30,
      "outputs": [
        {
          "output_type": "stream",
          "text": [
            "Distance: 3.4641016151377544\n"
          ],
          "name": "stdout"
        }
      ]
    },
    {
      "cell_type": "code",
      "metadata": {
        "id": "iPOBH2c6_P3Z"
      },
      "source": [
        "import operator\n",
        "\n",
        "def getNeighbors(trainingSet, testInstance, k):\n",
        "  distances = []\n",
        "  length = len(testInstance)-1\n",
        "  for x in range(len(trainingSet)):\n",
        "    dist = euclideanDistance(testInstance, trainingSet[x], length)\n",
        "    distances.append((trainingSet[x], dist))\n",
        "    distances.sort(key=operator.itemgetter(1))\n",
        "  neighbors = []\n",
        "  for x in range(k):\n",
        "    neighbors.append(distances[x][0])\n",
        "  return (neighbors)"
      ],
      "execution_count": 31,
      "outputs": []
    },
    {
      "cell_type": "code",
      "metadata": {
        "colab": {
          "base_uri": "https://localhost:8080/"
        },
        "id": "IWG-d93i_jd-",
        "outputId": "d39dacf9-9025-42ca-a66b-ed57b37f6427"
      },
      "source": [
        "trainSet = [[2, 2, 2, 'a'], [4, 4, 4, 'b']]\n",
        "testInstance = [5, 5, 5]\n",
        "k = 1\n",
        "neighbors = getNeighbors(trainSet, testInstance, 1)\n",
        "print(neighbors)"
      ],
      "execution_count": 32,
      "outputs": [
        {
          "output_type": "stream",
          "text": [
            "[[4, 4, 4, 'b']]\n"
          ],
          "name": "stdout"
        }
      ]
    },
    {
      "cell_type": "code",
      "metadata": {
        "id": "F9xZ7wth_rab"
      },
      "source": [
        "import operator\n",
        "def getResponse(neighbors):\n",
        "\tclassVotes = {}\n",
        "\tfor x in range(len(neighbors)):\n",
        "\t\tresponse = neighbors[x][-1]\n",
        "\t\tif response in classVotes:\n",
        "\t\t\tclassVotes[response] += 1\n",
        "\t\telse:\n",
        "\t\t\tclassVotes[response] = 1\n",
        "\tsortedVotes = sorted(classVotes.items(), key=operator.itemgetter(1), reverse=True)\n",
        "\treturn sortedVotes[0][0]"
      ],
      "execution_count": 33,
      "outputs": []
    },
    {
      "cell_type": "code",
      "metadata": {
        "colab": {
          "base_uri": "https://localhost:8080/"
        },
        "id": "KLrEGYO8AQi7",
        "outputId": "fc607b88-811a-4f7f-f236-66e06f9828b5"
      },
      "source": [
        "neighbors = [[1,1,1,'a'], [2,2,2,'a'], [3,3,3,'b']]\n",
        "response = getResponse(neighbors)\n",
        "print(response)"
      ],
      "execution_count": 34,
      "outputs": [
        {
          "output_type": "stream",
          "text": [
            "a\n"
          ],
          "name": "stdout"
        }
      ]
    },
    {
      "cell_type": "code",
      "metadata": {
        "id": "amMgv6PcAYku"
      },
      "source": [
        "def getAccuracy(testSet, predictions):\n",
        "\tcorrect = 0\n",
        "\tfor x in range(len(testSet)):\n",
        "\t\tif testSet[x][-1] in predictions[x]: \n",
        "\t\t\tcorrect = correct + 1\n",
        "\treturn (correct/float(len(testSet))*100)"
      ],
      "execution_count": 35,
      "outputs": []
    },
    {
      "cell_type": "code",
      "metadata": {
        "id": "DlTojTsjAx9A",
        "colab": {
          "base_uri": "https://localhost:8080/"
        },
        "outputId": "17e88075-1b86-4577-8e21-906373c35c62"
      },
      "source": [
        "testSet = [[1,1,1,'a'], [2,2,2,'a'], [3,3,3,'b']]\n",
        "predictions = ['a', 'a', 'a']\n",
        "accuracy = getAccuracy(testSet, predictions)\n",
        "print(accuracy)"
      ],
      "execution_count": 36,
      "outputs": [
        {
          "output_type": "stream",
          "text": [
            "66.66666666666666\n"
          ],
          "name": "stdout"
        }
      ]
    },
    {
      "cell_type": "code",
      "metadata": {
        "colab": {
          "base_uri": "https://localhost:8080/"
        },
        "id": "t0Xn7x81A6-n",
        "outputId": "294148f9-4435-45fa-a9ec-632f440e6ef0"
      },
      "source": [
        "def main():\n",
        "\t# prepare data\n",
        "\ttrainingSet=[]\n",
        "\ttestSet=[]\n",
        "\tsplit = 0.67\n",
        "\tloadDataset('/content/sample_data/iris.data.txt', split, trainingSet, testSet)\n",
        "\tprint ('Train set: ' + repr(len(trainingSet)))\n",
        "\tprint ('Test set: ' + repr(len(testSet)))\n",
        "\t# generate predictions\n",
        "\tpredictions=[]\n",
        "\tk = 3\n",
        "\tfor x in range(len(testSet)):\n",
        "\t\tneighbors = getNeighbors(trainingSet, testSet[x], k)\n",
        "\t\tresult = getResponse(neighbors)\n",
        "\t\tpredictions.append(result)\n",
        "\t\tprint('> predicted=' + repr(result) + ', actual=' + repr(testSet[x][-1]))\n",
        "\taccuracy = getAccuracy(testSet, predictions)\n",
        "\tprint('Accuracy: ' + repr(accuracy) + '%')\n",
        "\t\n",
        "main()"
      ],
      "execution_count": 37,
      "outputs": [
        {
          "output_type": "stream",
          "text": [
            "Train set: 101\n",
            "Test set: 48\n",
            "> predicted='Iris-setosa', actual='Iris-setosa'\n",
            "> predicted='Iris-setosa', actual='Iris-setosa'\n",
            "> predicted='Iris-setosa', actual='Iris-setosa'\n",
            "> predicted='Iris-setosa', actual='Iris-setosa'\n",
            "> predicted='Iris-setosa', actual='Iris-setosa'\n",
            "> predicted='Iris-setosa', actual='Iris-setosa'\n",
            "> predicted='Iris-setosa', actual='Iris-setosa'\n",
            "> predicted='Iris-setosa', actual='Iris-setosa'\n",
            "> predicted='Iris-setosa', actual='Iris-setosa'\n",
            "> predicted='Iris-setosa', actual='Iris-setosa'\n",
            "> predicted='Iris-setosa', actual='Iris-setosa'\n",
            "> predicted='Iris-setosa', actual='Iris-setosa'\n",
            "> predicted='Iris-setosa', actual='Iris-setosa'\n",
            "> predicted='Iris-setosa', actual='Iris-setosa'\n",
            "> predicted='Iris-setosa', actual='Iris-setosa'\n",
            "> predicted='Iris-setosa', actual='Iris-setosa'\n",
            "> predicted='Iris-setosa', actual='Iris-setosa'\n",
            "> predicted='Iris-setosa', actual='Iris-setosa'\n",
            "> predicted='Iris-setosa', actual='Iris-setosa'\n",
            "> predicted='Iris-setosa', actual='Iris-setosa'\n",
            "> predicted='Iris-setosa', actual='Iris-setosa'\n",
            "> predicted='Iris-setosa', actual='Iris-setosa'\n",
            "> predicted='Iris-setosa', actual='Iris-setosa'\n",
            "> predicted='Iris-setosa', actual='Iris-setosa'\n",
            "> predicted='Iris-setosa', actual='Iris-setosa'\n",
            "> predicted='Iris-setosa', actual='Iris-setosa'\n",
            "> predicted='Iris-setosa', actual='Iris-setosa'\n",
            "> predicted='Iris-setosa', actual='Iris-setosa'\n",
            "> predicted='Iris-setosa', actual='Iris-setosa'\n",
            "> predicted='Iris-setosa', actual='Iris-setosa'\n",
            "> predicted='Iris-setosa', actual='Iris-setosa'\n",
            "> predicted='Iris-setosa', actual='Iris-setosa'\n",
            "> predicted='Iris-setosa', actual='Iris-setosa'\n",
            "> predicted='Iris-setosa', actual='Iris-setosa'\n",
            "> predicted='Iris-setosa', actual='Iris-setosa'\n",
            "> predicted='Iris-setosa', actual='Iris-setosa'\n",
            "> predicted='Iris-setosa', actual='Iris-setosa'\n",
            "> predicted='Iris-setosa', actual='Iris-setosa'\n",
            "> predicted='Iris-setosa', actual='Iris-setosa'\n",
            "> predicted='Iris-setosa', actual='Iris-setosa'\n",
            "> predicted='Iris-setosa', actual='Iris-setosa'\n",
            "> predicted='Iris-setosa', actual='Iris-setosa'\n",
            "> predicted='Iris-setosa', actual='Iris-setosa'\n",
            "> predicted='Iris-setosa', actual='Iris-setosa'\n",
            "> predicted='Iris-setosa', actual='Iris-setosa'\n",
            "> predicted='Iris-setosa', actual='Iris-setosa'\n",
            "> predicted='Iris-setosa', actual='Iris-setosa'\n",
            "> predicted='Iris-setosa', actual='Iris-setosa'\n",
            "Accuracy: 100.0%\n"
          ],
          "name": "stdout"
        }
      ]
    },
    {
      "cell_type": "code",
      "metadata": {
        "id": "D1iQHdHKBO1S"
      },
      "source": [
        "def calculateManhattan(initial_state):\n",
        "    initial_config = initial_state\n",
        "    manDict = 0\n",
        "    for i,item in enumerate(initial_config):\n",
        "        prev_row,prev_col = int(i/ 3) , i % 3\n",
        "        goal_row,goal_col = int(item /3),item % 3\n",
        "        manDict += abs(prev_row-goal_row) + abs(prev_col - goal_col)\n",
        "    return manDict"
      ],
      "execution_count": 38,
      "outputs": []
    }
  ]
}