{
  "nbformat": 4,
  "nbformat_minor": 0,
  "metadata": {
    "colab": {
      "name": "checkpoint 2.ipynb",
      "provenance": []
    },
    "kernelspec": {
      "name": "python3",
      "display_name": "Python 3"
    },
    "language_info": {
      "name": "python"
    }
  },
  "cells": [
    {
      "cell_type": "markdown",
      "metadata": {
        "id": "Mhsu2VK9s04o"
      },
      "source": [
        "ex 1\n"
      ]
    },
    {
      "cell_type": "code",
      "metadata": {
        "colab": {
          "base_uri": "https://localhost:8080/"
        },
        "id": "4cwe10u0sbOn",
        "outputId": "773729ed-60c9-4c69-a338-1fee7f4b48a7"
      },
      "source": [
        "l=[]\n",
        "x = 2002\n",
        "for i in range (2002,3201):\n",
        "    if i%7 == 0 and i%5 != 0:\n",
        "        l.append(i)\n",
        "print(l)"
      ],
      "execution_count": 1,
      "outputs": [
        {
          "output_type": "stream",
          "text": [
            "[2002, 2009, 2016, 2023, 2037, 2044, 2051, 2058, 2072, 2079, 2086, 2093, 2107, 2114, 2121, 2128, 2142, 2149, 2156, 2163, 2177, 2184, 2191, 2198, 2212, 2219, 2226, 2233, 2247, 2254, 2261, 2268, 2282, 2289, 2296, 2303, 2317, 2324, 2331, 2338, 2352, 2359, 2366, 2373, 2387, 2394, 2401, 2408, 2422, 2429, 2436, 2443, 2457, 2464, 2471, 2478, 2492, 2499, 2506, 2513, 2527, 2534, 2541, 2548, 2562, 2569, 2576, 2583, 2597, 2604, 2611, 2618, 2632, 2639, 2646, 2653, 2667, 2674, 2681, 2688, 2702, 2709, 2716, 2723, 2737, 2744, 2751, 2758, 2772, 2779, 2786, 2793, 2807, 2814, 2821, 2828, 2842, 2849, 2856, 2863, 2877, 2884, 2891, 2898, 2912, 2919, 2926, 2933, 2947, 2954, 2961, 2968, 2982, 2989, 2996, 3003, 3017, 3024, 3031, 3038, 3052, 3059, 3066, 3073, 3087, 3094, 3101, 3108, 3122, 3129, 3136, 3143, 3157, 3164, 3171, 3178, 3192, 3199]\n"
          ],
          "name": "stdout"
        }
      ]
    },
    {
      "cell_type": "markdown",
      "metadata": {
        "id": "zDb1mDUxs463"
      },
      "source": [
        "ex 2\n",
        "\n",
        "---\n",
        "\n",
        "\n",
        "\n",
        "---\n",
        "\n"
      ]
    },
    {
      "cell_type": "code",
      "metadata": {
        "id": "0YTzxq5itJQJ"
      },
      "source": [
        "x = int(input(\"donner un nombre\")) \n",
        "a=1\n",
        "for i in range (1,x+1):\n",
        "    a=a*i\n",
        "print(a)\n",
        "    "
      ],
      "execution_count": null,
      "outputs": []
    },
    {
      "cell_type": "markdown",
      "metadata": {
        "id": "Yh0r99pEtb1L"
      },
      "source": [
        "ex 3"
      ]
    },
    {
      "cell_type": "code",
      "metadata": {
        "colab": {
          "base_uri": "https://localhost:8080/"
        },
        "id": "q7Yt1yvxteYN",
        "outputId": "f9e6175a-190f-4c86-c0f9-45ffaaed0f23"
      },
      "source": [
        "x = int(input(\"donnez un nombre\"))\n",
        "d = {}\n",
        "a=1\n",
        "for i in range (1,x+1):\n",
        "    a=i*i\n",
        "    d[i]=a\n",
        "print(d)"
      ],
      "execution_count": 5,
      "outputs": [
        {
          "output_type": "stream",
          "text": [
            "donnez un nombre6\n",
            "{1: 1, 2: 4, 3: 9, 4: 16, 5: 25, 6: 36}\n"
          ],
          "name": "stdout"
        }
      ]
    },
    {
      "cell_type": "markdown",
      "metadata": {
        "id": "s-V-5aY_twWv"
      },
      "source": [
        "ex 4"
      ]
    },
    {
      "cell_type": "code",
      "metadata": {
        "colab": {
          "base_uri": "https://localhost:8080/"
        },
        "id": "OeFNI0UUtyAR",
        "outputId": "fe3b8330-7bb8-4ee9-d7d4-62babbd09baa"
      },
      "source": [
        "x = input(\"write a word : \")\n",
        "y = int(input(\"write a number : \"))\n",
        "if len(x) <= y:\n",
        "     y = int(input(\"write another number : \"))\n",
        "print(x.replace(x[y],''))"
      ],
      "execution_count": 6,
      "outputs": [
        {
          "output_type": "stream",
          "text": [
            "write a word : manger\n",
            "write a number : 3\n",
            "maner\n"
          ],
          "name": "stdout"
        }
      ]
    },
    {
      "cell_type": "markdown",
      "metadata": {
        "id": "s25qu1o2t-Pa"
      },
      "source": [
        "ex 5"
      ]
    },
    {
      "cell_type": "code",
      "metadata": {
        "colab": {
          "base_uri": "https://localhost:8080/"
        },
        "id": "qNdXxdF6t_ZI",
        "outputId": "0b533c3e-bb8c-4ba9-d04e-3793e56acb8c"
      },
      "source": [
        "import numpy as np\n",
        "a = np.array([[0,1],[2,3],[4,5]])\n",
        "print(\"Original array elements:\\n\",a)\n",
        "l = a.tolist()\n",
        "print(\"Array to list:\\n\", l)"
      ],
      "execution_count": 7,
      "outputs": [
        {
          "output_type": "stream",
          "text": [
            "Original array elements:\n",
            " [[0 1]\n",
            " [2 3]\n",
            " [4 5]]\n",
            "Array to list:\n",
            " [[0, 1], [2, 3], [4, 5]]\n"
          ],
          "name": "stdout"
        }
      ]
    },
    {
      "cell_type": "markdown",
      "metadata": {
        "id": "Q-c8pmU1uFVu"
      },
      "source": [
        "ex 6"
      ]
    },
    {
      "cell_type": "code",
      "metadata": {
        "colab": {
          "base_uri": "https://localhost:8080/"
        },
        "id": "lgjYl0zGuGuj",
        "outputId": "8a1d4264-add2-4966-8d51-00e79adac8b4"
      },
      "source": [
        "import numpy as np\n",
        "a = np.array([0,1,2])\n",
        "print(a)\n",
        "b = np.array([2,1,0])\n",
        "print(b)\n",
        "np.cov(a,b)"
      ],
      "execution_count": 8,
      "outputs": [
        {
          "output_type": "stream",
          "text": [
            "[0 1 2]\n",
            "[2 1 0]\n"
          ],
          "name": "stdout"
        },
        {
          "output_type": "execute_result",
          "data": {
            "text/plain": [
              "array([[ 1., -1.],\n",
              "       [-1.,  1.]])"
            ]
          },
          "metadata": {
            "tags": []
          },
          "execution_count": 8
        }
      ]
    },
    {
      "cell_type": "markdown",
      "metadata": {
        "id": "mnqtJv13uMBd"
      },
      "source": [
        "ex 7"
      ]
    },
    {
      "cell_type": "code",
      "metadata": {
        "colab": {
          "base_uri": "https://localhost:8080/"
        },
        "id": "NL1lbiI4uNU8",
        "outputId": "ce4bebf4-6fae-4ed2-e724-634515332de0"
      },
      "source": [
        "from math import sqrt\n",
        "c = 50\n",
        "h = 30\n",
        "d = (input(\"enter 3 numbers : \"))\n",
        "x = d.split(\",\")\n",
        "l = []\n",
        "for i in x :\n",
        "    i = int(i)\n",
        "    Q = round(sqrt((2*c*i)/h))\n",
        "    l.append(Q)\n",
        "print(l)"
      ],
      "execution_count": 9,
      "outputs": [
        {
          "output_type": "stream",
          "text": [
            "enter 3 numbers : 100,150,180\n",
            "[18, 22, 24]\n"
          ],
          "name": "stdout"
        }
      ]
    }
  ]
}